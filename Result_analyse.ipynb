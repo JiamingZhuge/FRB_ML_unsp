{
 "cells": [
  {
   "cell_type": "code",
   "execution_count": 1,
   "metadata": {},
   "outputs": [],
   "source": [
    "import pandas as pd\n",
    "import numpy as np"
   ]
  },
  {
   "cell_type": "code",
   "execution_count": 2,
   "metadata": {},
   "outputs": [
    {
     "data": {
      "text/html": [
       "<div>\n",
       "<style scoped>\n",
       "    .dataframe tbody tr th:only-of-type {\n",
       "        vertical-align: middle;\n",
       "    }\n",
       "\n",
       "    .dataframe tbody tr th {\n",
       "        vertical-align: top;\n",
       "    }\n",
       "\n",
       "    .dataframe thead th {\n",
       "        text-align: right;\n",
       "    }\n",
       "</style>\n",
       "<table border=\"1\" class=\"dataframe\">\n",
       "  <thead>\n",
       "    <tr style=\"text-align: right;\">\n",
       "      <th></th>\n",
       "      <th>tns_name</th>\n",
       "      <th>repeater</th>\n",
       "      <th>PCA_K-means</th>\n",
       "      <th>T-SNE_HDBSCAN</th>\n",
       "      <th>UMAP_HDBSCAN</th>\n",
       "    </tr>\n",
       "  </thead>\n",
       "  <tbody>\n",
       "    <tr>\n",
       "      <th>0</th>\n",
       "      <td>FRB20180725A</td>\n",
       "      <td>non-repeater</td>\n",
       "      <td>-1</td>\n",
       "      <td>0.0</td>\n",
       "      <td>0.0</td>\n",
       "    </tr>\n",
       "    <tr>\n",
       "      <th>1</th>\n",
       "      <td>FRB20180727A</td>\n",
       "      <td>non-repeater</td>\n",
       "      <td>-1</td>\n",
       "      <td>-1.0</td>\n",
       "      <td>-1.0</td>\n",
       "    </tr>\n",
       "    <tr>\n",
       "      <th>2</th>\n",
       "      <td>FRB20180729A</td>\n",
       "      <td>non-repeater</td>\n",
       "      <td>1</td>\n",
       "      <td>0.0</td>\n",
       "      <td>0.0</td>\n",
       "    </tr>\n",
       "    <tr>\n",
       "      <th>3</th>\n",
       "      <td>FRB20180729B</td>\n",
       "      <td>non-repeater</td>\n",
       "      <td>-1</td>\n",
       "      <td>0.0</td>\n",
       "      <td>0.0</td>\n",
       "    </tr>\n",
       "    <tr>\n",
       "      <th>4</th>\n",
       "      <td>FRB20180730A</td>\n",
       "      <td>non-repeater</td>\n",
       "      <td>-1</td>\n",
       "      <td>-1.0</td>\n",
       "      <td>-1.0</td>\n",
       "    </tr>\n",
       "  </tbody>\n",
       "</table>\n",
       "</div>"
      ],
      "text/plain": [
       "       tns_name      repeater  PCA_K-means  T-SNE_HDBSCAN  UMAP_HDBSCAN\n",
       "0  FRB20180725A  non-repeater           -1            0.0           0.0\n",
       "1  FRB20180727A  non-repeater           -1           -1.0          -1.0\n",
       "2  FRB20180729A  non-repeater            1            0.0           0.0\n",
       "3  FRB20180729B  non-repeater           -1            0.0           0.0\n",
       "4  FRB20180730A  non-repeater           -1           -1.0          -1.0"
      ]
     },
     "execution_count": 2,
     "metadata": {},
     "output_type": "execute_result"
    }
   ],
   "source": [
    "df=pd.read_csv(r'Result.csv')\n",
    "df.replace(np.nan,0,inplace=True)\n",
    "col=[\n",
    "    #'K-means','GMM','PCA_K-means','UMAP_HDBSCAN','T-SNE_HDBSCAN'\n",
    "    'PCA_K-means','T-SNE_HDBSCAN','UMAP_HDBSCAN'\n",
    "    ]\n",
    "df=df[['tns_name','repeater']+col]\n",
    "df.head()"
   ]
  },
  {
   "cell_type": "code",
   "execution_count": 3,
   "metadata": {},
   "outputs": [
    {
     "data": {
      "text/html": [
       "<div>\n",
       "<style scoped>\n",
       "    .dataframe tbody tr th:only-of-type {\n",
       "        vertical-align: middle;\n",
       "    }\n",
       "\n",
       "    .dataframe tbody tr th {\n",
       "        vertical-align: top;\n",
       "    }\n",
       "\n",
       "    .dataframe thead th {\n",
       "        text-align: right;\n",
       "    }\n",
       "</style>\n",
       "<table border=\"1\" class=\"dataframe\">\n",
       "  <thead>\n",
       "    <tr style=\"text-align: right;\">\n",
       "      <th></th>\n",
       "      <th>TP</th>\n",
       "      <th>FN</th>\n",
       "      <th>FP</th>\n",
       "      <th>TN</th>\n",
       "      <th>Recall</th>\n",
       "      <th>Precision</th>\n",
       "      <th>F2</th>\n",
       "    </tr>\n",
       "  </thead>\n",
       "  <tbody>\n",
       "    <tr>\n",
       "      <th>PCA_K-means</th>\n",
       "      <td>85</td>\n",
       "      <td>9</td>\n",
       "      <td>127</td>\n",
       "      <td>373</td>\n",
       "      <td>0.904255</td>\n",
       "      <td>0.400943</td>\n",
       "      <td>0.722789</td>\n",
       "    </tr>\n",
       "    <tr>\n",
       "      <th>T-SNE_HDBSCAN</th>\n",
       "      <td>81</td>\n",
       "      <td>13</td>\n",
       "      <td>117</td>\n",
       "      <td>383</td>\n",
       "      <td>0.861702</td>\n",
       "      <td>0.409091</td>\n",
       "      <td>0.705575</td>\n",
       "    </tr>\n",
       "    <tr>\n",
       "      <th>UMAP_HDBSCAN</th>\n",
       "      <td>81</td>\n",
       "      <td>13</td>\n",
       "      <td>117</td>\n",
       "      <td>383</td>\n",
       "      <td>0.861702</td>\n",
       "      <td>0.409091</td>\n",
       "      <td>0.705575</td>\n",
       "    </tr>\n",
       "  </tbody>\n",
       "</table>\n",
       "</div>"
      ],
      "text/plain": [
       "               TP  FN   FP   TN    Recall Precision        F2\n",
       "PCA_K-means    85   9  127  373  0.904255  0.400943  0.722789\n",
       "T-SNE_HDBSCAN  81  13  117  383  0.861702  0.409091  0.705575\n",
       "UMAP_HDBSCAN   81  13  117  383  0.861702  0.409091  0.705575"
      ]
     },
     "execution_count": 3,
     "metadata": {},
     "output_type": "execute_result"
    }
   ],
   "source": [
    "cm=pd.DataFrame(columns=['TP','FN','FP','TN','Recall','Precision','F2'],index=col)\n",
    "beta=2\n",
    "for i in col:\n",
    "    cm.loc[i,'TP']=np.sum((df['repeater']=='repeater')&(df[i]==1))\n",
    "    cm.loc[i,'FN']=np.sum((df['repeater']=='repeater')&(df[i]!=1))\n",
    "    cm.loc[i,'FP']=np.sum((df['repeater']=='non-repeater')&(df[i]==1))\n",
    "    cm.loc[i,'TN']=np.sum((df['repeater']=='non-repeater')&(df[i]!=1))\n",
    "    cm['Recall']=cm['TP']/(cm['TP']+cm['FN'])\n",
    "    cm['Precision']=cm['TP']/(cm['TP']+cm['FP'])\n",
    "    cm['F2']=((beta**2+1)*cm['Recall']*cm['Precision'])/(beta**2*cm['Precision']+cm['Recall'])\n",
    "cm.to_excel(r'Result_evaluation.xlsx')\n",
    "cm.head()"
   ]
  },
  {
   "cell_type": "code",
   "execution_count": 4,
   "metadata": {},
   "outputs": [
    {
     "data": {
      "text/html": [
       "<div>\n",
       "<style scoped>\n",
       "    .dataframe tbody tr th:only-of-type {\n",
       "        vertical-align: middle;\n",
       "    }\n",
       "\n",
       "    .dataframe tbody tr th {\n",
       "        vertical-align: top;\n",
       "    }\n",
       "\n",
       "    .dataframe thead th {\n",
       "        text-align: right;\n",
       "    }\n",
       "</style>\n",
       "<table border=\"1\" class=\"dataframe\">\n",
       "  <thead>\n",
       "    <tr style=\"text-align: right;\">\n",
       "      <th></th>\n",
       "      <th>tns_name</th>\n",
       "      <th>repeater</th>\n",
       "      <th>PCA_K-means</th>\n",
       "      <th>T-SNE_HDBSCAN</th>\n",
       "      <th>UMAP_HDBSCAN</th>\n",
       "      <th>sum</th>\n",
       "    </tr>\n",
       "  </thead>\n",
       "  <tbody>\n",
       "    <tr>\n",
       "      <th>0</th>\n",
       "      <td>FRB20180725A</td>\n",
       "      <td>non-repeater</td>\n",
       "      <td>-1</td>\n",
       "      <td>0.0</td>\n",
       "      <td>0.0</td>\n",
       "      <td>-1.0</td>\n",
       "    </tr>\n",
       "    <tr>\n",
       "      <th>1</th>\n",
       "      <td>FRB20180727A</td>\n",
       "      <td>non-repeater</td>\n",
       "      <td>-1</td>\n",
       "      <td>-1.0</td>\n",
       "      <td>-1.0</td>\n",
       "      <td>-3.0</td>\n",
       "    </tr>\n",
       "    <tr>\n",
       "      <th>2</th>\n",
       "      <td>FRB20180729A</td>\n",
       "      <td>non-repeater</td>\n",
       "      <td>1</td>\n",
       "      <td>0.0</td>\n",
       "      <td>0.0</td>\n",
       "      <td>1.0</td>\n",
       "    </tr>\n",
       "    <tr>\n",
       "      <th>3</th>\n",
       "      <td>FRB20180729B</td>\n",
       "      <td>non-repeater</td>\n",
       "      <td>-1</td>\n",
       "      <td>0.0</td>\n",
       "      <td>0.0</td>\n",
       "      <td>-1.0</td>\n",
       "    </tr>\n",
       "    <tr>\n",
       "      <th>4</th>\n",
       "      <td>FRB20180730A</td>\n",
       "      <td>non-repeater</td>\n",
       "      <td>-1</td>\n",
       "      <td>-1.0</td>\n",
       "      <td>-1.0</td>\n",
       "      <td>-3.0</td>\n",
       "    </tr>\n",
       "  </tbody>\n",
       "</table>\n",
       "</div>"
      ],
      "text/plain": [
       "       tns_name      repeater  PCA_K-means  T-SNE_HDBSCAN  UMAP_HDBSCAN  sum\n",
       "0  FRB20180725A  non-repeater           -1            0.0           0.0 -1.0\n",
       "1  FRB20180727A  non-repeater           -1           -1.0          -1.0 -3.0\n",
       "2  FRB20180729A  non-repeater            1            0.0           0.0  1.0\n",
       "3  FRB20180729B  non-repeater           -1            0.0           0.0 -1.0\n",
       "4  FRB20180730A  non-repeater           -1           -1.0          -1.0 -3.0"
      ]
     },
     "execution_count": 4,
     "metadata": {},
     "output_type": "execute_result"
    }
   ],
   "source": [
    "df['sum']=np.zeros(len(df['repeater']))\n",
    "for i in range(len(col)):\n",
    "    df['sum']=df['sum']+df[col[i]]\n",
    "df.head()"
   ]
  },
  {
   "cell_type": "code",
   "execution_count": 5,
   "metadata": {},
   "outputs": [
    {
     "name": "stdout",
     "output_type": "stream",
     "text": [
      "         tns_name  repeater  PCA_K-means  T-SNE_HDBSCAN  UMAP_HDBSCAN  sum\n",
      "61   FRB20181017A  repeater           -1            0.0           0.0 -1.0\n",
      "415  FRB20190406A  repeater           -1            0.0           0.0 -1.0\n"
     ]
    }
   ],
   "source": [
    "print(df.loc[(df.loc[:,'repeater']=='repeater')&(df.loc[:,'sum']<0),:])"
   ]
  },
  {
   "cell_type": "code",
   "execution_count": 6,
   "metadata": {},
   "outputs": [
    {
     "data": {
      "image/png": "[encoded data removed]",
      "text/plain": [
       "<Figure size 864x777.6 with 1 Axes>"
      ]
     },
     "metadata": {},
     "output_type": "display_data"
    }
   ],
   "source": [
    "import matplotlib.pyplot as plt\n",
    "import seaborn as sns\n",
    "#plt.rcParams['figure.dpi']=75\n",
    "sns.set_theme(style='darkgrid')\n",
    "p=12\n",
    "fs=18\n",
    "#figure = plt.figure(figsize=(1.5*p, p))\n",
    "sns.set(context='notebook', style='white', rc={'figure.figsize':(p,0.9*p)})\n",
    "sns.histplot(data=df,x='sum',hue='repeater',multiple=\"stack\",binwidth=1)\n",
    "plt.tick_params(labelsize=fs)\n",
    "plt.xlabel('Sum',fontsize=fs)\n",
    "plt.ylabel('Count',fontsize=fs)\n",
    "plt.legend(['repeater','non-repeater'],fontsize=fs-2)\n",
    "plt.savefig('./fig/all.png',bbox_inches='tight',dpi=100,pad_inches=0.1)"
   ]
  },
  {
   "cell_type": "code",
   "execution_count": 7,
   "metadata": {},
   "outputs": [
    {
     "name": "stdout",
     "output_type": "stream",
     "text": [
      "65\n"
     ]
    },
    {
     "data": {
      "text/html": [
       "<div>\n",
       "<style scoped>\n",
       "    .dataframe tbody tr th:only-of-type {\n",
       "        vertical-align: middle;\n",
       "    }\n",
       "\n",
       "    .dataframe tbody tr th {\n",
       "        vertical-align: top;\n",
       "    }\n",
       "\n",
       "    .dataframe thead th {\n",
       "        text-align: right;\n",
       "    }\n",
       "</style>\n",
       "<table border=\"1\" class=\"dataframe\">\n",
       "  <thead>\n",
       "    <tr style=\"text-align: right;\">\n",
       "      <th></th>\n",
       "      <th>tns_name</th>\n",
       "      <th>repeater</th>\n",
       "      <th>PCA_K-means</th>\n",
       "      <th>T-SNE_HDBSCAN</th>\n",
       "      <th>UMAP_HDBSCAN</th>\n",
       "      <th>sum</th>\n",
       "    </tr>\n",
       "  </thead>\n",
       "  <tbody>\n",
       "    <tr>\n",
       "      <th>21</th>\n",
       "      <td>FRB20180907E</td>\n",
       "      <td>non-repeater</td>\n",
       "      <td>1</td>\n",
       "      <td>1.0</td>\n",
       "      <td>1.0</td>\n",
       "      <td>3.0</td>\n",
       "    </tr>\n",
       "    <tr>\n",
       "      <th>26</th>\n",
       "      <td>FRB20180911A</td>\n",
       "      <td>non-repeater</td>\n",
       "      <td>1</td>\n",
       "      <td>1.0</td>\n",
       "      <td>1.0</td>\n",
       "      <td>3.0</td>\n",
       "    </tr>\n",
       "    <tr>\n",
       "      <th>28</th>\n",
       "      <td>FRB20180915B</td>\n",
       "      <td>non-repeater</td>\n",
       "      <td>1</td>\n",
       "      <td>1.0</td>\n",
       "      <td>1.0</td>\n",
       "      <td>3.0</td>\n",
       "    </tr>\n",
       "    <tr>\n",
       "      <th>40</th>\n",
       "      <td>FRB20180920B</td>\n",
       "      <td>non-repeater</td>\n",
       "      <td>1</td>\n",
       "      <td>1.0</td>\n",
       "      <td>1.0</td>\n",
       "      <td>3.0</td>\n",
       "    </tr>\n",
       "    <tr>\n",
       "      <th>43</th>\n",
       "      <td>FRB20180923A</td>\n",
       "      <td>non-repeater</td>\n",
       "      <td>1</td>\n",
       "      <td>1.0</td>\n",
       "      <td>1.0</td>\n",
       "      <td>3.0</td>\n",
       "    </tr>\n",
       "  </tbody>\n",
       "</table>\n",
       "</div>"
      ],
      "text/plain": [
       "        tns_name      repeater  PCA_K-means  T-SNE_HDBSCAN  UMAP_HDBSCAN  sum\n",
       "21  FRB20180907E  non-repeater            1            1.0           1.0  3.0\n",
       "26  FRB20180911A  non-repeater            1            1.0           1.0  3.0\n",
       "28  FRB20180915B  non-repeater            1            1.0           1.0  3.0\n",
       "40  FRB20180920B  non-repeater            1            1.0           1.0  3.0\n",
       "43  FRB20180923A  non-repeater            1            1.0           1.0  3.0"
      ]
     },
     "execution_count": 7,
     "metadata": {},
     "output_type": "execute_result"
    }
   ],
   "source": [
    "#Result_rep=df.loc[df[df.repeater=='repeater'].index,col]\n",
    "msum=np.max(df['sum'])\n",
    "df_sum_max=df.loc[df[(df['sum']==msum)&(df.repeater=='non-repeater')].index,:]\n",
    "print(df_sum_max.shape[0])\n",
    "df_sum_max.head()"
   ]
  },
  {
   "cell_type": "markdown",
   "metadata": {},
   "source": [
    "candidates"
   ]
  },
  {
   "cell_type": "code",
   "execution_count": 8,
   "metadata": {},
   "outputs": [
    {
     "data": {
      "text/html": [
       "<div>\n",
       "<style scoped>\n",
       "    .dataframe tbody tr th:only-of-type {\n",
       "        vertical-align: middle;\n",
       "    }\n",
       "\n",
       "    .dataframe tbody tr th {\n",
       "        vertical-align: top;\n",
       "    }\n",
       "\n",
       "    .dataframe thead th {\n",
       "        text-align: right;\n",
       "    }\n",
       "</style>\n",
       "<table border=\"1\" class=\"dataframe\">\n",
       "  <thead>\n",
       "    <tr style=\"text-align: right;\">\n",
       "      <th></th>\n",
       "      <th>tns_name</th>\n",
       "      <th>sub</th>\n",
       "      <th>RA</th>\n",
       "      <th>Dec</th>\n",
       "      <th>\\nu_{peak}</th>\n",
       "      <th>bcwidth</th>\n",
       "      <th>flux</th>\n",
       "      <th>fluence</th>\n",
       "      <th>z</th>\n",
       "      <th>\\nu</th>\n",
       "      <th>\\Delta_t</th>\n",
       "      <th>E</th>\n",
       "      <th>L</th>\n",
       "      <th>T_B</th>\n",
       "    </tr>\n",
       "  </thead>\n",
       "  <tbody>\n",
       "    <tr>\n",
       "      <th>21</th>\n",
       "      <td>FRB20180907E</td>\n",
       "      <td>0</td>\n",
       "      <td>167.88</td>\n",
       "      <td>47.09</td>\n",
       "      <td>400.2</td>\n",
       "      <td>1.071882</td>\n",
       "      <td>-0.136677</td>\n",
       "      <td>0.838849</td>\n",
       "      <td>0.311849</td>\n",
       "      <td>178.542609</td>\n",
       "      <td>0.500164</td>\n",
       "      <td>39.852156</td>\n",
       "      <td>41.994513</td>\n",
       "      <td>27.888561</td>\n",
       "    </tr>\n",
       "    <tr>\n",
       "      <th>26</th>\n",
       "      <td>FRB20180911A</td>\n",
       "      <td>0</td>\n",
       "      <td>99.55</td>\n",
       "      <td>84.62</td>\n",
       "      <td>400.2</td>\n",
       "      <td>0.294466</td>\n",
       "      <td>0.204120</td>\n",
       "      <td>0.414973</td>\n",
       "      <td>0.084574</td>\n",
       "      <td>216.589472</td>\n",
       "      <td>-0.115658</td>\n",
       "      <td>38.263430</td>\n",
       "      <td>41.087836</td>\n",
       "      <td>28.619340</td>\n",
       "    </tr>\n",
       "    <tr>\n",
       "      <th>28</th>\n",
       "      <td>FRB20180915B</td>\n",
       "      <td>0</td>\n",
       "      <td>225.23</td>\n",
       "      <td>25.02</td>\n",
       "      <td>400.2</td>\n",
       "      <td>0.691965</td>\n",
       "      <td>-0.004365</td>\n",
       "      <td>0.579784</td>\n",
       "      <td>0.071801</td>\n",
       "      <td>136.333112</td>\n",
       "      <td>0.198799</td>\n",
       "      <td>38.283622</td>\n",
       "      <td>40.729588</td>\n",
       "      <td>27.471239</td>\n",
       "    </tr>\n",
       "    <tr>\n",
       "      <th>40</th>\n",
       "      <td>FRB20180920B</td>\n",
       "      <td>0</td>\n",
       "      <td>191.09</td>\n",
       "      <td>63.52</td>\n",
       "      <td>421.1</td>\n",
       "      <td>1.033826</td>\n",
       "      <td>-0.455932</td>\n",
       "      <td>0.230449</td>\n",
       "      <td>0.400657</td>\n",
       "      <td>116.534646</td>\n",
       "      <td>0.221024</td>\n",
       "      <td>39.491071</td>\n",
       "      <td>41.951022</td>\n",
       "      <td>27.826410</td>\n",
       "    </tr>\n",
       "    <tr>\n",
       "      <th>43</th>\n",
       "      <td>FRB20180923A</td>\n",
       "      <td>0</td>\n",
       "      <td>327.61</td>\n",
       "      <td>71.92</td>\n",
       "      <td>468.9</td>\n",
       "      <td>0.294466</td>\n",
       "      <td>-0.119186</td>\n",
       "      <td>0.079181</td>\n",
       "      <td>0.025874</td>\n",
       "      <td>177.168418</td>\n",
       "      <td>-0.835003</td>\n",
       "      <td>36.955959</td>\n",
       "      <td>39.768686</td>\n",
       "      <td>27.117945</td>\n",
       "    </tr>\n",
       "    <tr>\n",
       "      <th>...</th>\n",
       "      <td>...</td>\n",
       "      <td>...</td>\n",
       "      <td>...</td>\n",
       "      <td>...</td>\n",
       "      <td>...</td>\n",
       "      <td>...</td>\n",
       "      <td>...</td>\n",
       "      <td>...</td>\n",
       "      <td>...</td>\n",
       "      <td>...</td>\n",
       "      <td>...</td>\n",
       "      <td>...</td>\n",
       "      <td>...</td>\n",
       "      <td>...</td>\n",
       "    </tr>\n",
       "    <tr>\n",
       "      <th>537</th>\n",
       "      <td>FRB20190609A</td>\n",
       "      <td>1</td>\n",
       "      <td>345.30</td>\n",
       "      <td>87.94</td>\n",
       "      <td>600.5</td>\n",
       "      <td>0.691965</td>\n",
       "      <td>0.556303</td>\n",
       "      <td>1.017033</td>\n",
       "      <td>0.200061</td>\n",
       "      <td>267.973717</td>\n",
       "      <td>0.247132</td>\n",
       "      <td>39.808022</td>\n",
       "      <td>42.426495</td>\n",
       "      <td>28.590349</td>\n",
       "    </tr>\n",
       "    <tr>\n",
       "      <th>552</th>\n",
       "      <td>FRB20190617A</td>\n",
       "      <td>0</td>\n",
       "      <td>178.60</td>\n",
       "      <td>83.87</td>\n",
       "      <td>409.9</td>\n",
       "      <td>0.691965</td>\n",
       "      <td>0.763428</td>\n",
       "      <td>1.322219</td>\n",
       "      <td>0.064605</td>\n",
       "      <td>290.637199</td>\n",
       "      <td>0.145706</td>\n",
       "      <td>38.943339</td>\n",
       "      <td>41.411736</td>\n",
       "      <td>28.125110</td>\n",
       "    </tr>\n",
       "    <tr>\n",
       "      <th>553</th>\n",
       "      <td>FRB20190617B</td>\n",
       "      <td>0</td>\n",
       "      <td>56.43</td>\n",
       "      <td>1.16</td>\n",
       "      <td>459.3</td>\n",
       "      <td>1.138618</td>\n",
       "      <td>-0.004365</td>\n",
       "      <td>0.963788</td>\n",
       "      <td>0.165517</td>\n",
       "      <td>217.368910</td>\n",
       "      <td>0.813151</td>\n",
       "      <td>39.468787</td>\n",
       "      <td>41.567153</td>\n",
       "      <td>27.199636</td>\n",
       "    </tr>\n",
       "    <tr>\n",
       "      <th>555</th>\n",
       "      <td>FRB20190618A</td>\n",
       "      <td>0</td>\n",
       "      <td>321.25</td>\n",
       "      <td>25.44</td>\n",
       "      <td>419.3</td>\n",
       "      <td>0.294466</td>\n",
       "      <td>0.380211</td>\n",
       "      <td>0.633468</td>\n",
       "      <td>0.067950</td>\n",
       "      <td>149.726605</td>\n",
       "      <td>-0.289770</td>\n",
       "      <td>38.308931</td>\n",
       "      <td>41.084224</td>\n",
       "      <td>28.561693</td>\n",
       "    </tr>\n",
       "    <tr>\n",
       "      <th>570</th>\n",
       "      <td>FRB20190625A</td>\n",
       "      <td>0</td>\n",
       "      <td>227.91</td>\n",
       "      <td>32.88</td>\n",
       "      <td>400.2</td>\n",
       "      <td>1.763428</td>\n",
       "      <td>-0.455932</td>\n",
       "      <td>1.075547</td>\n",
       "      <td>0.224976</td>\n",
       "      <td>293.381782</td>\n",
       "      <td>0.505158</td>\n",
       "      <td>39.795518</td>\n",
       "      <td>41.352167</td>\n",
       "      <td>25.892879</td>\n",
       "    </tr>\n",
       "  </tbody>\n",
       "</table>\n",
       "<p>65 rows × 14 columns</p>\n",
       "</div>"
      ],
      "text/plain": [
       "         tns_name  sub      RA    Dec  \\nu_{peak}   bcwidth      flux  \\\n",
       "21   FRB20180907E    0  167.88  47.09       400.2  1.071882 -0.136677   \n",
       "26   FRB20180911A    0   99.55  84.62       400.2  0.294466  0.204120   \n",
       "28   FRB20180915B    0  225.23  25.02       400.2  0.691965 -0.004365   \n",
       "40   FRB20180920B    0  191.09  63.52       421.1  1.033826 -0.455932   \n",
       "43   FRB20180923A    0  327.61  71.92       468.9  0.294466 -0.119186   \n",
       "..            ...  ...     ...    ...         ...       ...       ...   \n",
       "537  FRB20190609A    1  345.30  87.94       600.5  0.691965  0.556303   \n",
       "552  FRB20190617A    0  178.60  83.87       409.9  0.691965  0.763428   \n",
       "553  FRB20190617B    0   56.43   1.16       459.3  1.138618 -0.004365   \n",
       "555  FRB20190618A    0  321.25  25.44       419.3  0.294466  0.380211   \n",
       "570  FRB20190625A    0  227.91  32.88       400.2  1.763428 -0.455932   \n",
       "\n",
       "      fluence         z         \\nu  \\Delta_t          E          L        T_B  \n",
       "21   0.838849  0.311849  178.542609  0.500164  39.852156  41.994513  27.888561  \n",
       "26   0.414973  0.084574  216.589472 -0.115658  38.263430  41.087836  28.619340  \n",
       "28   0.579784  0.071801  136.333112  0.198799  38.283622  40.729588  27.471239  \n",
       "40   0.230449  0.400657  116.534646  0.221024  39.491071  41.951022  27.826410  \n",
       "43   0.079181  0.025874  177.168418 -0.835003  36.955959  39.768686  27.117945  \n",
       "..        ...       ...         ...       ...        ...        ...        ...  \n",
       "537  1.017033  0.200061  267.973717  0.247132  39.808022  42.426495  28.590349  \n",
       "552  1.322219  0.064605  290.637199  0.145706  38.943339  41.411736  28.125110  \n",
       "553  0.963788  0.165517  217.368910  0.813151  39.468787  41.567153  27.199636  \n",
       "555  0.633468  0.067950  149.726605 -0.289770  38.308931  41.084224  28.561693  \n",
       "570  1.075547  0.224976  293.381782  0.505158  39.795518  41.352167  25.892879  \n",
       "\n",
       "[65 rows x 14 columns]"
      ]
     },
     "execution_count": 8,
     "metadata": {},
     "output_type": "execute_result"
    }
   ],
   "source": [
    "dataf=pd.read_csv(r'cul_cat1.csv')\n",
    "canf=dataf.loc[df_sum_max.index,['tns_name','sub_num','ra','dec','peak_freq','log_bc_width','log_flux', 'log_fluence','redshift','fre_width', 'log_in_duration','log_energy','log_luminosity','log_T_B']]\n",
    "canf.columns=['tns_name','sub','RA','Dec','\\nu_{peak}','bcwidth','flux','fluence','z','\\nu','\\Delta_t','E','L','T_B']\n",
    "canf.to_excel(r'candidate.xlsx',index=False)\n",
    "canf"
   ]
  },
  {
   "cell_type": "markdown",
   "metadata": {},
   "source": [
    "FAST candidates"
   ]
  },
  {
   "cell_type": "code",
   "execution_count": 9,
   "metadata": {},
   "outputs": [
    {
     "data": {
      "text/plain": [
       "(51, 14)"
      ]
     },
     "execution_count": 9,
     "metadata": {},
     "output_type": "execute_result"
    }
   ],
   "source": [
    "fast=canf.loc[((canf.loc[:,'Dec']<=66)&(canf.loc[:,'Dec']>=-14)),:]\n",
    "fast.to_excel(r'FAST_candidate.xlsx',index=False)\n",
    "fast.shape"
   ]
  },
  {
   "cell_type": "markdown",
   "metadata": {},
   "source": [
    "### Proportion of repeater"
   ]
  },
  {
   "cell_type": "code",
   "execution_count": 10,
   "metadata": {},
   "outputs": [
    {
     "data": {
      "text/html": [
       "<div>\n",
       "<style scoped>\n",
       "    .dataframe tbody tr th:only-of-type {\n",
       "        vertical-align: middle;\n",
       "    }\n",
       "\n",
       "    .dataframe tbody tr th {\n",
       "        vertical-align: top;\n",
       "    }\n",
       "\n",
       "    .dataframe thead th {\n",
       "        text-align: right;\n",
       "    }\n",
       "</style>\n",
       "<table border=\"1\" class=\"dataframe\">\n",
       "  <thead>\n",
       "    <tr style=\"text-align: right;\">\n",
       "      <th></th>\n",
       "      <th>PCA_K-means</th>\n",
       "      <th>T-SNE_HDBSCAN</th>\n",
       "      <th>UMAP_HDBSCAN</th>\n",
       "    </tr>\n",
       "  </thead>\n",
       "  <tbody>\n",
       "    <tr>\n",
       "      <th>0</th>\n",
       "      <td>35.690236</td>\n",
       "      <td>33.333333</td>\n",
       "      <td>33.333333</td>\n",
       "    </tr>\n",
       "  </tbody>\n",
       "</table>\n",
       "</div>"
      ],
      "text/plain": [
       "   PCA_K-means  T-SNE_HDBSCAN  UMAP_HDBSCAN\n",
       "0    35.690236      33.333333     33.333333"
      ]
     },
     "execution_count": 10,
     "metadata": {},
     "output_type": "execute_result"
    }
   ],
   "source": [
    "pt=pd.DataFrame([np.zeros(len(col))],columns=col)\n",
    "for i in col:\n",
    "    pt.loc[0,i]=np.sum(df[i]==1)/len(df['tns_name'])*100\n",
    "pt.head()"
   ]
  },
  {
   "cell_type": "markdown",
   "metadata": {},
   "source": [
    "# Gradient Descent"
   ]
  },
  {
   "cell_type": "markdown",
   "metadata": {},
   "source": [
    "I W= O"
   ]
  },
  {
   "cell_type": "code",
   "execution_count": 11,
   "metadata": {},
   "outputs": [
    {
     "data": {
      "text/plain": [
       "\" col=[\\n    'K-means','GMM','PCA_K-means','PCA_GMM','UMAP_HDBSCAN',\\n    'HDBSCAN','T-SNE_HDBSCAN']\\nResult_rep=df.loc[df[df.repeater=='repeater'].index,col]\\nResult_rep.to_excel(r'Result_repeater.xlsx',index=False)\\ninput=Result_rep.values\\nnp.random.seed(42)\\nweight=np.random.rand(input.shape[1])\\nweight=1-weight#(0,1]\\ntarget=np.zeros(input.shape[0])+1 \""
      ]
     },
     "execution_count": 11,
     "metadata": {},
     "output_type": "execute_result"
    }
   ],
   "source": [
    "''' col=[\n",
    "    'K-means','GMM','PCA_K-means','PCA_GMM','UMAP_HDBSCAN',\n",
    "    'HDBSCAN','T-SNE_HDBSCAN']\n",
    "Result_rep=df.loc[df[df.repeater=='repeater'].index,col]\n",
    "Result_rep.to_excel(r'Result_repeater.xlsx',index=False)\n",
    "input=Result_rep.values\n",
    "np.random.seed(42)\n",
    "weight=np.random.rand(input.shape[1])\n",
    "weight=1-weight#(0,1]\n",
    "target=np.zeros(input.shape[0])+1 '''"
   ]
  },
  {
   "cell_type": "markdown",
   "metadata": {},
   "source": [
    "### Sigmoid\n",
    "$ S(x)=\\frac{1-e^{-x}}{1+e^{-x}}$"
   ]
  },
  {
   "cell_type": "code",
   "execution_count": 12,
   "metadata": {},
   "outputs": [],
   "source": [
    "def sigmoid(x):\n",
    "    return 2/(1+np.exp(-x))-1"
   ]
  },
  {
   "cell_type": "code",
   "execution_count": 13,
   "metadata": {},
   "outputs": [
    {
     "data": {
      "text/plain": [
       "Text(0, 0.5, 'y')"
      ]
     },
     "execution_count": 13,
     "metadata": {},
     "output_type": "execute_result"
    },
    {
     "data": {
      "image/png": "[encoded data removed]",
      "text/plain": [
       "<Figure size 864x777.6 with 1 Axes>"
      ]
     },
     "metadata": {},
     "output_type": "display_data"
    }
   ],
   "source": [
    "x=np.linspace(-5,5,100)\n",
    "y=sigmoid(x)\n",
    "plt.plot(x,y)\n",
    "plt.xlabel('x')\n",
    "plt.ylabel('y')"
   ]
  },
  {
   "cell_type": "markdown",
   "metadata": {},
   "source": [
    "### $W_j'=W_j+\\alpha \\sum_i (target_i-Sigmoid(output_i))\\cdot [1-Sigmoid(output_i)^2]I_{ij}$"
   ]
  },
  {
   "cell_type": "code",
   "execution_count": 14,
   "metadata": {},
   "outputs": [
    {
     "data": {
      "text/plain": [
       "' def weight_cul(input,labels,nr_con,Learning_rate=0.01):\\n    np.random.seed(42)\\n    weight=np.random.rand(input.shape[1])\\n    weight=1-weight#(0,1]\\n    target=labels\\n    output=np.dot(input,weight)\\n    S=sigmoid(output)\\n    error1=target-S\\n    error=np.zeros(input.shape[0])+input.shape[1]\\n    weight1=weight\\n    while(np.abs(np.sum(error1)-np.sum(error))>0.00001):\\n        #i=i+1\\n        error=error1\\n        weight=weight1\\n        t=error*(1-S*S)\\n        weight1=weight+2*Learning_rate*np.dot(t,input)\\n        weight1[np.where(weight1<=0)]=0.01\\n        #weight[np.where(weight<=-1)]=-1\\n        #weight[np.where(weight>=1)]=1\\n        output=np.dot(input,weight1)\\n        S=sigmoid(output)\\n        error1=target-S\\n        #print(np.sum(error1))\\n        #break\\n        #if(i>50):\\n        #    break\\n    return weight '"
      ]
     },
     "execution_count": 14,
     "metadata": {},
     "output_type": "execute_result"
    }
   ],
   "source": [
    "\"\"\" def weight_cul(input,labels,nr_con,Learning_rate=0.01):\n",
    "    np.random.seed(42)\n",
    "    weight=np.random.rand(input.shape[1])\n",
    "    weight=1-weight#(0,1]\n",
    "    target=labels\n",
    "    output=np.dot(input,weight)\n",
    "    S=sigmoid(output)\n",
    "    error1=target-S\n",
    "    error=np.zeros(input.shape[0])+input.shape[1]\n",
    "    weight1=weight\n",
    "    while(np.abs(np.sum(error1)-np.sum(error))>0.00001):\n",
    "        #i=i+1\n",
    "        error=error1\n",
    "        weight=weight1\n",
    "        t=error*(1-S*S)\n",
    "        weight1=weight+2*Learning_rate*np.dot(t,input)\n",
    "        weight1[np.where(weight1<=0)]=0.01\n",
    "        #weight[np.where(weight<=-1)]=-1\n",
    "        #weight[np.where(weight>=1)]=1\n",
    "        output=np.dot(input,weight1)\n",
    "        S=sigmoid(output)\n",
    "        error1=target-S\n",
    "        #print(np.sum(error1))\n",
    "        #break\n",
    "        #if(i>50):\n",
    "        #    break\n",
    "    return weight \"\"\""
   ]
  },
  {
   "cell_type": "code",
   "execution_count": 15,
   "metadata": {},
   "outputs": [
    {
     "data": {
      "text/plain": [
       "' Learning_rate=0.01\\noutput=np.dot(input,weight)\\nS=sigmoid(output)\\nerror1=target-S\\nerror=np.zeros(input.shape[0])+input.shape[1]\\nweight1=weight '"
      ]
     },
     "execution_count": 15,
     "metadata": {},
     "output_type": "execute_result"
    }
   ],
   "source": [
    "''' Learning_rate=0.01\n",
    "output=np.dot(input,weight)\n",
    "S=sigmoid(output)\n",
    "error1=target-S\n",
    "error=np.zeros(input.shape[0])+input.shape[1]\n",
    "weight1=weight '''"
   ]
  },
  {
   "cell_type": "code",
   "execution_count": 16,
   "metadata": {},
   "outputs": [
    {
     "data": {
      "text/plain": [
       "' while(np.abs(np.sum(error1)-np.sum(error))>0.00001):\\n    #i=i+1\\n    error=error1\\n    weight=weight1\\n    t=error*(1-S*S)\\n    weight1=weight+2*Learning_rate*np.dot(t,input)\\n    weight1[np.where(weight1<=0)]=0.01\\n    #weight[np.where(weight<=-1)]=-1\\n    #weight[np.where(weight>=1)]=1\\n    output=np.dot(input,weight1)\\n    S=sigmoid(output)\\n    error1=target-S\\n    print(np.sum(error1))\\n    #break\\n    #if(i>50):\\n    #    break '"
      ]
     },
     "execution_count": 16,
     "metadata": {},
     "output_type": "execute_result"
    }
   ],
   "source": [
    "''' while(np.abs(np.sum(error1)-np.sum(error))>0.00001):\n",
    "    #i=i+1\n",
    "    error=error1\n",
    "    weight=weight1\n",
    "    t=error*(1-S*S)\n",
    "    weight1=weight+2*Learning_rate*np.dot(t,input)\n",
    "    weight1[np.where(weight1<=0)]=0.01\n",
    "    #weight[np.where(weight<=-1)]=-1\n",
    "    #weight[np.where(weight>=1)]=1\n",
    "    output=np.dot(input,weight1)\n",
    "    S=sigmoid(output)\n",
    "    error1=target-S\n",
    "    print(np.sum(error1))\n",
    "    #break\n",
    "    #if(i>50):\n",
    "    #    break '''"
   ]
  },
  {
   "cell_type": "code",
   "execution_count": 17,
   "metadata": {},
   "outputs": [
    {
     "data": {
      "text/plain": [
       "' def random_weight(inputs,labels,nr_con,Learning_rate=0.001,n=1000):\\n    weight=np.zeros(inputs.shape[1])\\n    for i in range(n):\\n        input=inputs.sample(frac=0.2)\\n        weight=weight+weight_cul(input=input.values,labels=labels,nr_con=nr_con,Learning_rate=Learning_rate)\\n    return weight/n '"
      ]
     },
     "execution_count": 17,
     "metadata": {},
     "output_type": "execute_result"
    }
   ],
   "source": [
    "\"\"\" def random_weight(inputs,labels,nr_con,Learning_rate=0.001,n=1000):\n",
    "    weight=np.zeros(inputs.shape[1])\n",
    "    for i in range(n):\n",
    "        input=inputs.sample(frac=0.2)\n",
    "        weight=weight+weight_cul(input=input.values,labels=labels,nr_con=nr_con,Learning_rate=Learning_rate)\n",
    "    return weight/n \"\"\""
   ]
  },
  {
   "cell_type": "markdown",
   "metadata": {},
   "source": [
    "### input"
   ]
  },
  {
   "cell_type": "code",
   "execution_count": 18,
   "metadata": {},
   "outputs": [
    {
     "data": {
      "text/html": [
       "<div>\n",
       "<style scoped>\n",
       "    .dataframe tbody tr th:only-of-type {\n",
       "        vertical-align: middle;\n",
       "    }\n",
       "\n",
       "    .dataframe tbody tr th {\n",
       "        vertical-align: top;\n",
       "    }\n",
       "\n",
       "    .dataframe thead th {\n",
       "        text-align: right;\n",
       "    }\n",
       "</style>\n",
       "<table border=\"1\" class=\"dataframe\">\n",
       "  <thead>\n",
       "    <tr style=\"text-align: right;\">\n",
       "      <th></th>\n",
       "      <th>TP</th>\n",
       "      <th>FN</th>\n",
       "      <th>FP</th>\n",
       "      <th>TN</th>\n",
       "      <th>Recall</th>\n",
       "      <th>Precision</th>\n",
       "      <th>F2</th>\n",
       "      <th>TNR</th>\n",
       "    </tr>\n",
       "  </thead>\n",
       "  <tbody>\n",
       "    <tr>\n",
       "      <th>PCA_K-means</th>\n",
       "      <td>85</td>\n",
       "      <td>9</td>\n",
       "      <td>127</td>\n",
       "      <td>373</td>\n",
       "      <td>0.904255</td>\n",
       "      <td>0.400943</td>\n",
       "      <td>0.722789</td>\n",
       "      <td>0.746</td>\n",
       "    </tr>\n",
       "    <tr>\n",
       "      <th>T-SNE_HDBSCAN</th>\n",
       "      <td>81</td>\n",
       "      <td>13</td>\n",
       "      <td>117</td>\n",
       "      <td>383</td>\n",
       "      <td>0.861702</td>\n",
       "      <td>0.409091</td>\n",
       "      <td>0.705575</td>\n",
       "      <td>0.766</td>\n",
       "    </tr>\n",
       "    <tr>\n",
       "      <th>UMAP_HDBSCAN</th>\n",
       "      <td>81</td>\n",
       "      <td>13</td>\n",
       "      <td>117</td>\n",
       "      <td>383</td>\n",
       "      <td>0.861702</td>\n",
       "      <td>0.409091</td>\n",
       "      <td>0.705575</td>\n",
       "      <td>0.766</td>\n",
       "    </tr>\n",
       "  </tbody>\n",
       "</table>\n",
       "</div>"
      ],
      "text/plain": [
       "               TP  FN   FP   TN    Recall Precision        F2    TNR\n",
       "PCA_K-means    85   9  127  373  0.904255  0.400943  0.722789  0.746\n",
       "T-SNE_HDBSCAN  81  13  117  383  0.861702  0.409091  0.705575  0.766\n",
       "UMAP_HDBSCAN   81  13  117  383  0.861702  0.409091  0.705575  0.766"
      ]
     },
     "execution_count": 18,
     "metadata": {},
     "output_type": "execute_result"
    }
   ],
   "source": [
    "cm['TNR']=cm['TN']/(cm['TN']+cm['FP'])\n",
    "cm"
   ]
  },
  {
   "cell_type": "code",
   "execution_count": 19,
   "metadata": {},
   "outputs": [
    {
     "name": "stdout",
     "output_type": "stream",
     "text": [
      "0.7593333333333333\n"
     ]
    }
   ],
   "source": [
    "pos=np.average(cm['TNR'])\n",
    "print(pos)"
   ]
  },
  {
   "cell_type": "markdown",
   "metadata": {},
   "source": [
    "only repeater"
   ]
  },
  {
   "cell_type": "code",
   "execution_count": 20,
   "metadata": {},
   "outputs": [
    {
     "data": {
      "text/plain": [
       "\" label=df[df.repeater=='repeater'].index\\nResult_rep=df.loc[label,col]\\nlabel=(df.loc[label,'repeater']=='repeater')*2-1\\nResult_rep.to_excel(r'Result_repeater.xlsx',index=False)\\nprint(label) \""
      ]
     },
     "execution_count": 20,
     "metadata": {},
     "output_type": "execute_result"
    }
   ],
   "source": [
    "''' label=df[df.repeater=='repeater'].index\n",
    "Result_rep=df.loc[label,col]\n",
    "label=(df.loc[label,'repeater']=='repeater')*2-1\n",
    "Result_rep.to_excel(r'Result_repeater.xlsx',index=False)\n",
    "print(label) '''"
   ]
  },
  {
   "cell_type": "markdown",
   "metadata": {},
   "source": [
    "all"
   ]
  },
  {
   "cell_type": "code",
   "execution_count": 21,
   "metadata": {},
   "outputs": [
    {
     "data": {
      "text/plain": [
       "\" input=df.loc[:,col]\\nlabel=(df.loc[:,'repeater']=='repeater')*2-1\\nprint(input)\\nprint(label) \""
      ]
     },
     "execution_count": 21,
     "metadata": {},
     "output_type": "execute_result"
    }
   ],
   "source": [
    "''' input=df.loc[:,col]\n",
    "label=(df.loc[:,'repeater']=='repeater')*2-1\n",
    "print(input)\n",
    "print(label) '''"
   ]
  },
  {
   "cell_type": "code",
   "execution_count": 22,
   "metadata": {},
   "outputs": [],
   "source": [
    "#weight=random_weight(inputs=input,labels=label,nr_con=pos,Learning_rate=0.01,n=500)\n",
    "#print(weight)"
   ]
  },
  {
   "cell_type": "markdown",
   "metadata": {},
   "source": [
    "[1.89354672e-04 1.00000000e-02 2.04739474e-03 8.33655163e-03\n",
    " 4.87835606e+00 1.05634339e+00 1.40744958e+00]"
   ]
  },
  {
   "cell_type": "markdown",
   "metadata": {},
   "source": [
    "# weight from $F_\\beta$"
   ]
  },
  {
   "cell_type": "code",
   "execution_count": 23,
   "metadata": {},
   "outputs": [
    {
     "name": "stdout",
     "output_type": "stream",
     "text": [
      "PCA_K-means      0.722789\n",
      "T-SNE_HDBSCAN    0.705575\n",
      "UMAP_HDBSCAN     0.705575\n",
      "dtype: object\n"
     ]
    },
    {
     "data": {
      "text/html": [
       "<div>\n",
       "<style scoped>\n",
       "    .dataframe tbody tr th:only-of-type {\n",
       "        vertical-align: middle;\n",
       "    }\n",
       "\n",
       "    .dataframe tbody tr th {\n",
       "        vertical-align: top;\n",
       "    }\n",
       "\n",
       "    .dataframe thead th {\n",
       "        text-align: right;\n",
       "    }\n",
       "</style>\n",
       "<table border=\"1\" class=\"dataframe\">\n",
       "  <thead>\n",
       "    <tr style=\"text-align: right;\">\n",
       "      <th></th>\n",
       "      <th>tns_name</th>\n",
       "      <th>repeater</th>\n",
       "      <th>PCA_K-means</th>\n",
       "      <th>T-SNE_HDBSCAN</th>\n",
       "      <th>UMAP_HDBSCAN</th>\n",
       "      <th>sum</th>\n",
       "      <th>dot_weight</th>\n",
       "    </tr>\n",
       "  </thead>\n",
       "  <tbody>\n",
       "    <tr>\n",
       "      <th>0</th>\n",
       "      <td>FRB20180725A</td>\n",
       "      <td>non-repeater</td>\n",
       "      <td>-1</td>\n",
       "      <td>0.0</td>\n",
       "      <td>0.0</td>\n",
       "      <td>-1.0</td>\n",
       "      <td>-0.722789</td>\n",
       "    </tr>\n",
       "    <tr>\n",
       "      <th>1</th>\n",
       "      <td>FRB20180727A</td>\n",
       "      <td>non-repeater</td>\n",
       "      <td>-1</td>\n",
       "      <td>-1.0</td>\n",
       "      <td>-1.0</td>\n",
       "      <td>-3.0</td>\n",
       "      <td>-2.133939</td>\n",
       "    </tr>\n",
       "    <tr>\n",
       "      <th>2</th>\n",
       "      <td>FRB20180729A</td>\n",
       "      <td>non-repeater</td>\n",
       "      <td>1</td>\n",
       "      <td>0.0</td>\n",
       "      <td>0.0</td>\n",
       "      <td>1.0</td>\n",
       "      <td>0.722789</td>\n",
       "    </tr>\n",
       "    <tr>\n",
       "      <th>3</th>\n",
       "      <td>FRB20180729B</td>\n",
       "      <td>non-repeater</td>\n",
       "      <td>-1</td>\n",
       "      <td>0.0</td>\n",
       "      <td>0.0</td>\n",
       "      <td>-1.0</td>\n",
       "      <td>-0.722789</td>\n",
       "    </tr>\n",
       "    <tr>\n",
       "      <th>4</th>\n",
       "      <td>FRB20180730A</td>\n",
       "      <td>non-repeater</td>\n",
       "      <td>-1</td>\n",
       "      <td>-1.0</td>\n",
       "      <td>-1.0</td>\n",
       "      <td>-3.0</td>\n",
       "      <td>-2.133939</td>\n",
       "    </tr>\n",
       "    <tr>\n",
       "      <th>...</th>\n",
       "      <td>...</td>\n",
       "      <td>...</td>\n",
       "      <td>...</td>\n",
       "      <td>...</td>\n",
       "      <td>...</td>\n",
       "      <td>...</td>\n",
       "      <td>...</td>\n",
       "    </tr>\n",
       "    <tr>\n",
       "      <th>589</th>\n",
       "      <td>FRB20190701A</td>\n",
       "      <td>non-repeater</td>\n",
       "      <td>-1</td>\n",
       "      <td>0.0</td>\n",
       "      <td>0.0</td>\n",
       "      <td>-1.0</td>\n",
       "      <td>-0.722789</td>\n",
       "    </tr>\n",
       "    <tr>\n",
       "      <th>590</th>\n",
       "      <td>FRB20190701B</td>\n",
       "      <td>non-repeater</td>\n",
       "      <td>-1</td>\n",
       "      <td>0.0</td>\n",
       "      <td>0.0</td>\n",
       "      <td>-1.0</td>\n",
       "      <td>-0.722789</td>\n",
       "    </tr>\n",
       "    <tr>\n",
       "      <th>591</th>\n",
       "      <td>FRB20190701C</td>\n",
       "      <td>non-repeater</td>\n",
       "      <td>-1</td>\n",
       "      <td>1.0</td>\n",
       "      <td>1.0</td>\n",
       "      <td>1.0</td>\n",
       "      <td>0.688361</td>\n",
       "    </tr>\n",
       "    <tr>\n",
       "      <th>592</th>\n",
       "      <td>FRB20190701D</td>\n",
       "      <td>non-repeater</td>\n",
       "      <td>-1</td>\n",
       "      <td>0.0</td>\n",
       "      <td>0.0</td>\n",
       "      <td>-1.0</td>\n",
       "      <td>-0.722789</td>\n",
       "    </tr>\n",
       "    <tr>\n",
       "      <th>593</th>\n",
       "      <td>FRB20190701E</td>\n",
       "      <td>non-repeater</td>\n",
       "      <td>-1</td>\n",
       "      <td>-1.0</td>\n",
       "      <td>-1.0</td>\n",
       "      <td>-3.0</td>\n",
       "      <td>-2.133939</td>\n",
       "    </tr>\n",
       "  </tbody>\n",
       "</table>\n",
       "<p>594 rows × 7 columns</p>\n",
       "</div>"
      ],
      "text/plain": [
       "         tns_name      repeater  PCA_K-means  T-SNE_HDBSCAN  UMAP_HDBSCAN  \\\n",
       "0    FRB20180725A  non-repeater           -1            0.0           0.0   \n",
       "1    FRB20180727A  non-repeater           -1           -1.0          -1.0   \n",
       "2    FRB20180729A  non-repeater            1            0.0           0.0   \n",
       "3    FRB20180729B  non-repeater           -1            0.0           0.0   \n",
       "4    FRB20180730A  non-repeater           -1           -1.0          -1.0   \n",
       "..            ...           ...          ...            ...           ...   \n",
       "589  FRB20190701A  non-repeater           -1            0.0           0.0   \n",
       "590  FRB20190701B  non-repeater           -1            0.0           0.0   \n",
       "591  FRB20190701C  non-repeater           -1            1.0           1.0   \n",
       "592  FRB20190701D  non-repeater           -1            0.0           0.0   \n",
       "593  FRB20190701E  non-repeater           -1           -1.0          -1.0   \n",
       "\n",
       "     sum dot_weight  \n",
       "0   -1.0  -0.722789  \n",
       "1   -3.0  -2.133939  \n",
       "2    1.0   0.722789  \n",
       "3   -1.0  -0.722789  \n",
       "4   -3.0  -2.133939  \n",
       "..   ...        ...  \n",
       "589 -1.0  -0.722789  \n",
       "590 -1.0  -0.722789  \n",
       "591  1.0   0.688361  \n",
       "592 -1.0  -0.722789  \n",
       "593 -3.0  -2.133939  \n",
       "\n",
       "[594 rows x 7 columns]"
      ]
     },
     "execution_count": 23,
     "metadata": {},
     "output_type": "execute_result"
    }
   ],
   "source": [
    "beta=2\n",
    "F_B=((beta**2+1)*cm['Recall']*cm['Precision'])/(beta**2*cm['Precision']+cm['Recall'])\n",
    "print(F_B)\n",
    "weight=F_B#weight from F2\n",
    "da=df.loc[:,col].values\n",
    "dot_weight=np.dot(da,weight)\n",
    "df['dot_weight']=dot_weight#sigmoid(dot_weight)\n",
    "#df['dot_weight']=dot_weight\n",
    "df#.head()"
   ]
  },
  {
   "cell_type": "code",
   "execution_count": 24,
   "metadata": {},
   "outputs": [
    {
     "data": {
      "text/plain": [
       "Text(0, 0.5, 'Count')"
      ]
     },
     "execution_count": 24,
     "metadata": {},
     "output_type": "execute_result"
    },
    {
     "data": {
      "image/png": "[encoded data removed]",
      "text/plain": [
       "<Figure size 562.5x375 with 1 Axes>"
      ]
     },
     "metadata": {},
     "output_type": "display_data"
    }
   ],
   "source": [
    "import matplotlib.pyplot as plt\n",
    "import seaborn as sns\n",
    "plt.rcParams['figure.dpi']=75\n",
    "sns.set_theme(style='darkgrid')\n",
    "p=5\n",
    "figure = plt.figure(figsize=(1.5*p, p))\n",
    "sns.histplot(\n",
    "    data=df,\n",
    "    x='dot_weight',\n",
    "    hue='repeater',\n",
    "    multiple=\"stack\",\n",
    "    binwidth=1\n",
    "    )\n",
    "plt.title('FRBs classification rank')\n",
    "plt.xlabel('rank')\n",
    "plt.ylabel('Count')\n",
    "#plt.savefig(f'./fig/conclusion.png')"
   ]
  },
  {
   "cell_type": "code",
   "execution_count": 25,
   "metadata": {},
   "outputs": [
    {
     "data": {
      "text/html": [
       "<div>\n",
       "<style scoped>\n",
       "    .dataframe tbody tr th:only-of-type {\n",
       "        vertical-align: middle;\n",
       "    }\n",
       "\n",
       "    .dataframe tbody tr th {\n",
       "        vertical-align: top;\n",
       "    }\n",
       "\n",
       "    .dataframe thead th {\n",
       "        text-align: right;\n",
       "    }\n",
       "</style>\n",
       "<table border=\"1\" class=\"dataframe\">\n",
       "  <thead>\n",
       "    <tr style=\"text-align: right;\">\n",
       "      <th></th>\n",
       "      <th>tns_name</th>\n",
       "      <th>repeater</th>\n",
       "      <th>PCA_K-means</th>\n",
       "      <th>T-SNE_HDBSCAN</th>\n",
       "      <th>UMAP_HDBSCAN</th>\n",
       "      <th>sum</th>\n",
       "      <th>dot_weight</th>\n",
       "    </tr>\n",
       "  </thead>\n",
       "  <tbody>\n",
       "    <tr>\n",
       "      <th>0</th>\n",
       "      <td>FRB20180725A</td>\n",
       "      <td>non-repeater</td>\n",
       "      <td>-1</td>\n",
       "      <td>0.0</td>\n",
       "      <td>0.0</td>\n",
       "      <td>-1.0</td>\n",
       "      <td>-0.722789</td>\n",
       "    </tr>\n",
       "    <tr>\n",
       "      <th>1</th>\n",
       "      <td>FRB20180727A</td>\n",
       "      <td>non-repeater</td>\n",
       "      <td>-1</td>\n",
       "      <td>-1.0</td>\n",
       "      <td>-1.0</td>\n",
       "      <td>-3.0</td>\n",
       "      <td>-2.133939</td>\n",
       "    </tr>\n",
       "    <tr>\n",
       "      <th>2</th>\n",
       "      <td>FRB20180729A</td>\n",
       "      <td>non-repeater</td>\n",
       "      <td>1</td>\n",
       "      <td>0.0</td>\n",
       "      <td>0.0</td>\n",
       "      <td>1.0</td>\n",
       "      <td>0.722789</td>\n",
       "    </tr>\n",
       "    <tr>\n",
       "      <th>3</th>\n",
       "      <td>FRB20180729B</td>\n",
       "      <td>non-repeater</td>\n",
       "      <td>-1</td>\n",
       "      <td>0.0</td>\n",
       "      <td>0.0</td>\n",
       "      <td>-1.0</td>\n",
       "      <td>-0.722789</td>\n",
       "    </tr>\n",
       "    <tr>\n",
       "      <th>4</th>\n",
       "      <td>FRB20180730A</td>\n",
       "      <td>non-repeater</td>\n",
       "      <td>-1</td>\n",
       "      <td>-1.0</td>\n",
       "      <td>-1.0</td>\n",
       "      <td>-3.0</td>\n",
       "      <td>-2.133939</td>\n",
       "    </tr>\n",
       "  </tbody>\n",
       "</table>\n",
       "</div>"
      ],
      "text/plain": [
       "       tns_name      repeater  PCA_K-means  T-SNE_HDBSCAN  UMAP_HDBSCAN  sum  \\\n",
       "0  FRB20180725A  non-repeater           -1            0.0           0.0 -1.0   \n",
       "1  FRB20180727A  non-repeater           -1           -1.0          -1.0 -3.0   \n",
       "2  FRB20180729A  non-repeater            1            0.0           0.0  1.0   \n",
       "3  FRB20180729B  non-repeater           -1            0.0           0.0 -1.0   \n",
       "4  FRB20180730A  non-repeater           -1           -1.0          -1.0 -3.0   \n",
       "\n",
       "  dot_weight  \n",
       "0  -0.722789  \n",
       "1  -2.133939  \n",
       "2   0.722789  \n",
       "3  -0.722789  \n",
       "4  -2.133939  "
      ]
     },
     "execution_count": 25,
     "metadata": {},
     "output_type": "execute_result"
    }
   ],
   "source": [
    "df.head()"
   ]
  },
  {
   "cell_type": "code",
   "execution_count": 26,
   "metadata": {},
   "outputs": [
    {
     "name": "stdout",
     "output_type": "stream",
     "text": [
      "65\n"
     ]
    },
    {
     "data": {
      "text/html": [
       "<div>\n",
       "<style scoped>\n",
       "    .dataframe tbody tr th:only-of-type {\n",
       "        vertical-align: middle;\n",
       "    }\n",
       "\n",
       "    .dataframe tbody tr th {\n",
       "        vertical-align: top;\n",
       "    }\n",
       "\n",
       "    .dataframe thead th {\n",
       "        text-align: right;\n",
       "    }\n",
       "</style>\n",
       "<table border=\"1\" class=\"dataframe\">\n",
       "  <thead>\n",
       "    <tr style=\"text-align: right;\">\n",
       "      <th></th>\n",
       "      <th>tns_name</th>\n",
       "      <th>repeater</th>\n",
       "      <th>PCA_K-means</th>\n",
       "      <th>T-SNE_HDBSCAN</th>\n",
       "      <th>UMAP_HDBSCAN</th>\n",
       "      <th>sum</th>\n",
       "      <th>dot_weight</th>\n",
       "    </tr>\n",
       "  </thead>\n",
       "  <tbody>\n",
       "    <tr>\n",
       "      <th>21</th>\n",
       "      <td>FRB20180907E</td>\n",
       "      <td>non-repeater</td>\n",
       "      <td>1</td>\n",
       "      <td>1.0</td>\n",
       "      <td>1.0</td>\n",
       "      <td>3.0</td>\n",
       "      <td>2.133939</td>\n",
       "    </tr>\n",
       "    <tr>\n",
       "      <th>26</th>\n",
       "      <td>FRB20180911A</td>\n",
       "      <td>non-repeater</td>\n",
       "      <td>1</td>\n",
       "      <td>1.0</td>\n",
       "      <td>1.0</td>\n",
       "      <td>3.0</td>\n",
       "      <td>2.133939</td>\n",
       "    </tr>\n",
       "    <tr>\n",
       "      <th>28</th>\n",
       "      <td>FRB20180915B</td>\n",
       "      <td>non-repeater</td>\n",
       "      <td>1</td>\n",
       "      <td>1.0</td>\n",
       "      <td>1.0</td>\n",
       "      <td>3.0</td>\n",
       "      <td>2.133939</td>\n",
       "    </tr>\n",
       "    <tr>\n",
       "      <th>40</th>\n",
       "      <td>FRB20180920B</td>\n",
       "      <td>non-repeater</td>\n",
       "      <td>1</td>\n",
       "      <td>1.0</td>\n",
       "      <td>1.0</td>\n",
       "      <td>3.0</td>\n",
       "      <td>2.133939</td>\n",
       "    </tr>\n",
       "    <tr>\n",
       "      <th>43</th>\n",
       "      <td>FRB20180923A</td>\n",
       "      <td>non-repeater</td>\n",
       "      <td>1</td>\n",
       "      <td>1.0</td>\n",
       "      <td>1.0</td>\n",
       "      <td>3.0</td>\n",
       "      <td>2.133939</td>\n",
       "    </tr>\n",
       "    <tr>\n",
       "      <th>...</th>\n",
       "      <td>...</td>\n",
       "      <td>...</td>\n",
       "      <td>...</td>\n",
       "      <td>...</td>\n",
       "      <td>...</td>\n",
       "      <td>...</td>\n",
       "      <td>...</td>\n",
       "    </tr>\n",
       "    <tr>\n",
       "      <th>537</th>\n",
       "      <td>FRB20190609A</td>\n",
       "      <td>non-repeater</td>\n",
       "      <td>1</td>\n",
       "      <td>1.0</td>\n",
       "      <td>1.0</td>\n",
       "      <td>3.0</td>\n",
       "      <td>2.133939</td>\n",
       "    </tr>\n",
       "    <tr>\n",
       "      <th>552</th>\n",
       "      <td>FRB20190617A</td>\n",
       "      <td>non-repeater</td>\n",
       "      <td>1</td>\n",
       "      <td>1.0</td>\n",
       "      <td>1.0</td>\n",
       "      <td>3.0</td>\n",
       "      <td>2.133939</td>\n",
       "    </tr>\n",
       "    <tr>\n",
       "      <th>553</th>\n",
       "      <td>FRB20190617B</td>\n",
       "      <td>non-repeater</td>\n",
       "      <td>1</td>\n",
       "      <td>1.0</td>\n",
       "      <td>1.0</td>\n",
       "      <td>3.0</td>\n",
       "      <td>2.133939</td>\n",
       "    </tr>\n",
       "    <tr>\n",
       "      <th>555</th>\n",
       "      <td>FRB20190618A</td>\n",
       "      <td>non-repeater</td>\n",
       "      <td>1</td>\n",
       "      <td>1.0</td>\n",
       "      <td>1.0</td>\n",
       "      <td>3.0</td>\n",
       "      <td>2.133939</td>\n",
       "    </tr>\n",
       "    <tr>\n",
       "      <th>570</th>\n",
       "      <td>FRB20190625A</td>\n",
       "      <td>non-repeater</td>\n",
       "      <td>1</td>\n",
       "      <td>1.0</td>\n",
       "      <td>1.0</td>\n",
       "      <td>3.0</td>\n",
       "      <td>2.133939</td>\n",
       "    </tr>\n",
       "  </tbody>\n",
       "</table>\n",
       "<p>65 rows × 7 columns</p>\n",
       "</div>"
      ],
      "text/plain": [
       "         tns_name      repeater  PCA_K-means  T-SNE_HDBSCAN  UMAP_HDBSCAN  \\\n",
       "21   FRB20180907E  non-repeater            1            1.0           1.0   \n",
       "26   FRB20180911A  non-repeater            1            1.0           1.0   \n",
       "28   FRB20180915B  non-repeater            1            1.0           1.0   \n",
       "40   FRB20180920B  non-repeater            1            1.0           1.0   \n",
       "43   FRB20180923A  non-repeater            1            1.0           1.0   \n",
       "..            ...           ...          ...            ...           ...   \n",
       "537  FRB20190609A  non-repeater            1            1.0           1.0   \n",
       "552  FRB20190617A  non-repeater            1            1.0           1.0   \n",
       "553  FRB20190617B  non-repeater            1            1.0           1.0   \n",
       "555  FRB20190618A  non-repeater            1            1.0           1.0   \n",
       "570  FRB20190625A  non-repeater            1            1.0           1.0   \n",
       "\n",
       "     sum dot_weight  \n",
       "21   3.0   2.133939  \n",
       "26   3.0   2.133939  \n",
       "28   3.0   2.133939  \n",
       "40   3.0   2.133939  \n",
       "43   3.0   2.133939  \n",
       "..   ...        ...  \n",
       "537  3.0   2.133939  \n",
       "552  3.0   2.133939  \n",
       "553  3.0   2.133939  \n",
       "555  3.0   2.133939  \n",
       "570  3.0   2.133939  \n",
       "\n",
       "[65 rows x 7 columns]"
      ]
     },
     "execution_count": 26,
     "metadata": {},
     "output_type": "execute_result"
    }
   ],
   "source": [
    "#Result_rep=df.loc[df[df.repeater=='repeater'].index,col]\n",
    "m=np.max(df['dot_weight'])\n",
    "df_max=df.loc[df[(df.dot_weight==m)&(df.repeater=='non-repeater')].index,:]\n",
    "print(df_max.shape[0])\n",
    "df_max"
   ]
  },
  {
   "cell_type": "code",
   "execution_count": 27,
   "metadata": {},
   "outputs": [
    {
     "data": {
      "text/html": [
       "<div>\n",
       "<style scoped>\n",
       "    .dataframe tbody tr th:only-of-type {\n",
       "        vertical-align: middle;\n",
       "    }\n",
       "\n",
       "    .dataframe tbody tr th {\n",
       "        vertical-align: top;\n",
       "    }\n",
       "\n",
       "    .dataframe thead th {\n",
       "        text-align: right;\n",
       "    }\n",
       "</style>\n",
       "<table border=\"1\" class=\"dataframe\">\n",
       "  <thead>\n",
       "    <tr style=\"text-align: right;\">\n",
       "      <th></th>\n",
       "      <th>tns_name</th>\n",
       "      <th>repeater</th>\n",
       "      <th>rank</th>\n",
       "      <th>classification</th>\n",
       "    </tr>\n",
       "  </thead>\n",
       "  <tbody>\n",
       "    <tr>\n",
       "      <th>0</th>\n",
       "      <td>FRB20180725A</td>\n",
       "      <td>non-repeater</td>\n",
       "      <td>-0.722789</td>\n",
       "      <td>non-repeater</td>\n",
       "    </tr>\n",
       "    <tr>\n",
       "      <th>1</th>\n",
       "      <td>FRB20180727A</td>\n",
       "      <td>non-repeater</td>\n",
       "      <td>-2.133939</td>\n",
       "      <td>non-repeater</td>\n",
       "    </tr>\n",
       "    <tr>\n",
       "      <th>2</th>\n",
       "      <td>FRB20180729A</td>\n",
       "      <td>non-repeater</td>\n",
       "      <td>0.722789</td>\n",
       "      <td>candidate</td>\n",
       "    </tr>\n",
       "    <tr>\n",
       "      <th>3</th>\n",
       "      <td>FRB20180729B</td>\n",
       "      <td>non-repeater</td>\n",
       "      <td>-0.722789</td>\n",
       "      <td>non-repeater</td>\n",
       "    </tr>\n",
       "    <tr>\n",
       "      <th>4</th>\n",
       "      <td>FRB20180730A</td>\n",
       "      <td>non-repeater</td>\n",
       "      <td>-2.133939</td>\n",
       "      <td>non-repeater</td>\n",
       "    </tr>\n",
       "  </tbody>\n",
       "</table>\n",
       "</div>"
      ],
      "text/plain": [
       "       tns_name      repeater      rank classification\n",
       "0  FRB20180725A  non-repeater -0.722789   non-repeater\n",
       "1  FRB20180727A  non-repeater -2.133939   non-repeater\n",
       "2  FRB20180729A  non-repeater  0.722789      candidate\n",
       "3  FRB20180729B  non-repeater -0.722789   non-repeater\n",
       "4  FRB20180730A  non-repeater -2.133939   non-repeater"
      ]
     },
     "execution_count": 27,
     "metadata": {},
     "output_type": "execute_result"
    }
   ],
   "source": [
    "rt=df.loc[:,['tns_name','repeater']]\n",
    "b=(rt['repeater']=='repeater')\n",
    "rt['rank']=df['dot_weight']\n",
    "rt['classification']=b\n",
    "for i in range(len(b)):\n",
    "    if(df.loc[i,'dot_weight']>=0)&(rt.loc[i,'classification']==True):\n",
    "        rt.loc[i,'classification']='repeater'\n",
    "    elif(df.loc[i,'dot_weight']>=0)&(rt.loc[i,'classification']==False):\n",
    "        rt.loc[i,'classification']='candidate'\n",
    "    else:\n",
    "        rt.loc[i,'classification']='non-repeater'\n",
    "rt.head()"
   ]
  },
  {
   "cell_type": "code",
   "execution_count": 28,
   "metadata": {},
   "outputs": [],
   "source": [
    "#rt.to_csv('conclusion.csv',index=False)"
   ]
  }
 ],
 "metadata": {
  "kernelspec": {
   "display_name": "Python 3.9.12 ('base')",
   "language": "python",
   "name": "python3"
  },
  "language_info": {
   "codemirror_mode": {
    "name": "ipython",
    "version": 3
   },
   "file_extension": ".py",
   "mimetype": "text/x-python",
   "name": "python",
   "nbconvert_exporter": "python",
   "pygments_lexer": "ipython3",
   "version": "3.9.12"
  },
  "orig_nbformat": 4,
  "vscode": {
   "interpreter": {
    "hash": "9d86af2da119f3ffdb47f3699d5318512770225011831cf89019ce132791fb2c"
   }
  }
 },
 "nbformat": 4,
 "nbformat_minor": 2
}
