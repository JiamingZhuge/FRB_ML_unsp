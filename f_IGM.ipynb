{
 "cells": [
  {
   "cell_type": "markdown",
   "metadata": {},
   "source": [
    "### Check $f_{IGM}$ with the latest cosmological parameters"
   ]
  },
  {
   "cell_type": "code",
   "execution_count": 10,
   "metadata": {},
   "outputs": [],
   "source": [
    "#Parameters\n",
    "H=67.4#67.3 #km/s/Mpc\n",
    "h=H/100\n",
    "h70=H/70\n",
    "h2=h**2\n",
    "O_b=0.0224/h2#0.0486\n",
    "O_m=0.315#matter\n",
    "O_k=0\n",
    "O_L=1-O_m-O_k#dark energy\n",
    "\n",
    "c=299792458 #m/s\n",
    "pc_m=3.085677581491367e+16\n",
    "#3.2615637771418798291*c*365*24*60*60    #original convert\n",
    "#3.085677581491367e+16                   #astropy convert\n",
    "#3.08567758E16                           #Jiawei\n",
    "cm=100\n",
    "km=1000\n",
    "M=1e6\n",
    "m_p=1.67262192e-27#1.2726e-27 #kg\n",
    "G=6.67430e-11 #m^3/kg/s^2"
   ]
  },
  {
   "cell_type": "code",
   "execution_count": 11,
   "metadata": {},
   "outputs": [
    {
     "name": "stdout",
     "output_type": "stream",
     "text": [
      "0.16959273932474353\n"
     ]
    }
   ],
   "source": [
    "star_sph=0.0026/h70\n",
    "star_disk=0.00086/h70\n",
    "star_irr=0.000069/h70\n",
    "gas_neu=0.00033/h70\n",
    "gas_mol=0.00030/h70\n",
    "plasma_cl=0.0026/(h70**1.5)\n",
    "plasma_warm_group=0.0056/(h70**1.5)\n",
    "plasma_cool=0.002/h70\n",
    "plasma_group=0.014/h70\n",
    "star=star_disk+star_irr+star_sph\n",
    "gas=gas_mol+gas_neu\n",
    "plasma=plasma_group+plasma_cl\n",
    "sum=star+gas+plasma\n",
    "print(star/sum)"
   ]
  },
  {
   "cell_type": "code",
   "execution_count": 12,
   "metadata": {},
   "outputs": [
    {
     "name": "stdout",
     "output_type": "stream",
     "text": [
      "0.8304072606752565\n"
     ]
    }
   ],
   "source": [
    "print((gas+plasma)/sum)"
   ]
  }
 ],
 "metadata": {
  "kernelspec": {
   "display_name": "Python 3.9.12 ('base')",
   "language": "python",
   "name": "python3"
  },
  "language_info": {
   "codemirror_mode": {
    "name": "ipython",
    "version": 3
   },
   "file_extension": ".py",
   "mimetype": "text/x-python",
   "name": "python",
   "nbconvert_exporter": "python",
   "pygments_lexer": "ipython3",
   "version": "3.9.12"
  },
  "orig_nbformat": 4,
  "vscode": {
   "interpreter": {
    "hash": "9d86af2da119f3ffdb47f3699d5318512770225011831cf89019ce132791fb2c"
   }
  }
 },
 "nbformat": 4,
 "nbformat_minor": 2
}
